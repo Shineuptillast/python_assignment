{
 "cells": [
  {
   "cell_type": "code",
   "execution_count": 7,
   "id": "d619c6ea",
   "metadata": {},
   "outputs": [],
   "source": [
    "# question 1 Difference btw string and variable\n",
    "\n",
    "# Answer--> String is a collection of characters, it's a type of variable whereas the\n",
    "#           variable is the place in the memory to store the data which can be of any type like integer, float"
   ]
  },
  {
   "cell_type": "code",
   "execution_count": 8,
   "id": "b8322a1d",
   "metadata": {},
   "outputs": [],
   "source": [
    "# Question 2 Different types of data types\n",
    "\n",
    "# Answer--> There are three different types of data types that a variable can store, integer, float, complex, String\n",
    "#           Integer stores only absolute values, it can be positive and negative as well eg-- 3\n",
    "#           Float stores the decimal value or real numbers. eg-- 1.23\n",
    "#           String is a collection of characters or text data. Its defined with the help of double or single quotes which\n",
    "#           tells python interpreter that it's a string eg-- \"HEllO\""
   ]
  },
  {
   "cell_type": "code",
   "execution_count": 9,
   "id": "70e175e9",
   "metadata": {},
   "outputs": [],
   "source": [
    "# Question 3 What is an expression made up of? What do all expressions do?\n",
    "\n",
    "# Answer--> Expression is made up of mathematical operations performed on the variable. All expression perform the basic mathematical \n",
    "#           operation on the given variable and gives us a single value as an output\n",
    "\n"
   ]
  },
  {
   "cell_type": "code",
   "execution_count": 10,
   "id": "53a4982a",
   "metadata": {},
   "outputs": [],
   "source": [
    "# QUestion 4 Difference btw expression and assignment?\n",
    "\n",
    "# Answer The expression performs the mathematical operation given in the expression as per the precedence of operators\n",
    "#        and spits out a single value as an output. Whereas the assignment operator assign the value on the right hand side of the\n",
    "#        statement to the variable. Means stores the value at the memory location referenced by variable name."
   ]
  },
  {
   "cell_type": "code",
   "execution_count": 11,
   "id": "bdd7db7d",
   "metadata": {},
   "outputs": [],
   "source": [
    "# Question 5  Bacon =22\n",
    "#             Bacon + 1\n",
    " # output will be 23"
   ]
  },
  {
   "cell_type": "code",
   "execution_count": 13,
   "id": "0951c7fd",
   "metadata": {},
   "outputs": [],
   "source": [
    "# Question 6 \"spam\" + \"spamspam\"\n",
    "\n",
    "\n",
    " # output  --> \"spamspamspam\"\n",
    "    \n",
    "# \"Spam\"*3        Output --> \"spamspamspam\""
   ]
  },
  {
   "cell_type": "code",
   "execution_count": 15,
   "id": "28db183e",
   "metadata": {},
   "outputs": [],
   "source": [
    "# Question 7  Eggs is a valid name for variable because its following all the principles/ rule for variable naming\n",
    "#             100 is not a valid variable name because its staring with a number which is not allowed in the variable \n",
    "#             naming rules\n"
   ]
  },
  {
   "cell_type": "code",
   "execution_count": 17,
   "id": "0a28f641",
   "metadata": {},
   "outputs": [],
   "source": [
    "# question 8 Type casting\n",
    "\n",
    "# Answer--> It's used for the conversion of values from one datatype to another data types. It can be Explicit or implicit.\n",
    "#           we can convert the int varibale into string using str() and in floating point using float()\n",
    "#           we can convert the floating point number into string using str() and into integer using int()\n",
    "#           we can convert the string into the floating point number and integer only when the str is numeric using str(),\n",
    "#           otherwise it will throw error"
   ]
  },
  {
   "cell_type": "code",
   "execution_count": 19,
   "id": "a350455d",
   "metadata": {},
   "outputs": [],
   "source": [
    "# \"I have eaten\" + 99 + \"Burritos\"\n",
    "\n",
    "# the error is that we cant concatenate the integer with the string, for removing error we have to convert the integer into str\n",
    "# \"I have eaten\" + str(99) + \"Burritos\""
   ]
  },
  {
   "cell_type": "code",
   "execution_count": null,
   "id": "5403bb1b",
   "metadata": {},
   "outputs": [],
   "source": []
  }
 ],
 "metadata": {
  "kernelspec": {
   "display_name": "Python 3",
   "language": "python",
   "name": "python3"
  },
  "language_info": {
   "codemirror_mode": {
    "name": "ipython",
    "version": 3
   },
   "file_extension": ".py",
   "mimetype": "text/x-python",
   "name": "python",
   "nbconvert_exporter": "python",
   "pygments_lexer": "ipython3",
   "version": "3.8.8"
  }
 },
 "nbformat": 4,
 "nbformat_minor": 5
}

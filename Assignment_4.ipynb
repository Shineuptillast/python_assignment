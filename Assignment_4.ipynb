{
 "cells": [
  {
   "cell_type": "code",
   "execution_count": 1,
   "id": "28b88da0",
   "metadata": {},
   "outputs": [],
   "source": [
    "# Question [] ?\n",
    "# Answer its an empty list"
   ]
  },
  {
   "cell_type": "code",
   "execution_count": 2,
   "id": "2a380052",
   "metadata": {},
   "outputs": [],
   "source": [
    "# Question spam =[2,4,6,8,10]\n",
    "\n",
    "# spam.insert(3, \"hello\")"
   ]
  },
  {
   "cell_type": "code",
   "execution_count": 8,
   "id": "491a003f",
   "metadata": {},
   "outputs": [],
   "source": [
    "spam =[2,4,6,8,10]"
   ]
  },
  {
   "cell_type": "code",
   "execution_count": 9,
   "id": "0d8d5677",
   "metadata": {},
   "outputs": [],
   "source": [
    "spam.insert(2, \"hello\")"
   ]
  },
  {
   "cell_type": "code",
   "execution_count": 12,
   "id": "0f939e79",
   "metadata": {},
   "outputs": [
    {
     "data": {
      "text/plain": [
       "[2, 4, 'hello', 6, 8, 10]"
      ]
     },
     "execution_count": 12,
     "metadata": {},
     "output_type": "execute_result"
    }
   ],
   "source": [
    "spam\n"
   ]
  },
  {
   "cell_type": "code",
   "execution_count": null,
   "id": "220cb995",
   "metadata": {},
   "outputs": [],
   "source": [
    "# Question  Spam = [\"a\",\"b\" , \"c\", \"d\"]"
   ]
  },
  {
   "cell_type": "code",
   "execution_count": 14,
   "id": "9c737787",
   "metadata": {},
   "outputs": [],
   "source": [
    "# Question spam[int(int(\"3\"*2)/11)]\n",
    "\n",
    "# Answer     \"3\"*2 --> \"33\"\n",
    "#            int(33)--> 33\n",
    "#            33/11 --> 3\n",
    "#            int(3)--> 3\n",
    "#            spam[3]--> \"d\"\n"
   ]
  },
  {
   "cell_type": "code",
   "execution_count": 15,
   "id": "2dcd4480",
   "metadata": {},
   "outputs": [],
   "source": [
    "#  spam[-1]--> \"d\""
   ]
  },
  {
   "cell_type": "code",
   "execution_count": 16,
   "id": "6623f97d",
   "metadata": {},
   "outputs": [],
   "source": [
    "# spam[:2]--> [\"a\",\"b\"]"
   ]
  },
  {
   "cell_type": "code",
   "execution_count": 17,
   "id": "97eecb1b",
   "metadata": {},
   "outputs": [],
   "source": [
    "# bacon = [3.14,\"cat\",11,\"cat\",True]"
   ]
  },
  {
   "cell_type": "code",
   "execution_count": 18,
   "id": "57af71ed",
   "metadata": {},
   "outputs": [],
   "source": [
    "#question  bacon.index(\"cat\") --> 1"
   ]
  },
  {
   "cell_type": "code",
   "execution_count": 19,
   "id": "131523dc",
   "metadata": {},
   "outputs": [],
   "source": [
    "# question bacon.append(99)\n",
    "\n",
    "# answer--> bacon = [3.14,\"cat\",11,\"cat\",True,99]"
   ]
  },
  {
   "cell_type": "code",
   "execution_count": 20,
   "id": "221fb411",
   "metadata": {},
   "outputs": [],
   "source": [
    "# bacon.remove(\"cat\")\n",
    "\n",
    "# answer bacon=[3.14,11,\"cat\",True,99]"
   ]
  },
  {
   "cell_type": "code",
   "execution_count": 21,
   "id": "3e158604",
   "metadata": {},
   "outputs": [],
   "source": [
    "# list concatenation is basically combining the two list into one whereas\n",
    "# list copying is pointing the another variable to the same location as that of previous list\n"
   ]
  },
  {
   "cell_type": "code",
   "execution_count": 22,
   "id": "65d63087",
   "metadata": {},
   "outputs": [],
   "source": [
    "# append() --> only adds elements at the end of the list \n",
    "# insert()--> can insert elements at any desired location within the list"
   ]
  },
  {
   "cell_type": "code",
   "execution_count": 23,
   "id": "4be5b396",
   "metadata": {},
   "outputs": [],
   "source": [
    "# # the two methods of removing the elements of list are remove and pop\n",
    "# pop() deletes the elements from the last of the index\n",
    "# remove() deletes the first occurence of the element inthe list from the lowest index"
   ]
  },
  {
   "cell_type": "code",
   "execution_count": 24,
   "id": "29bed335",
   "metadata": {},
   "outputs": [],
   "source": [
    "# list values and string values are identical because its a collection of data which can be accessed using the index of the \n",
    "# element within the list or string"
   ]
  },
  {
   "cell_type": "code",
   "execution_count": 25,
   "id": "4da18e27",
   "metadata": {},
   "outputs": [],
   "source": [
    "# tuples --> Immutable wont support any pop, remove, insert, append method\n",
    "# list --> Its a mutable object hence support all the above mentioned function"
   ]
  },
  {
   "cell_type": "code",
   "execution_count": 26,
   "id": "aef82518",
   "metadata": {},
   "outputs": [],
   "source": [
    "# t=tuple(42)"
   ]
  },
  {
   "cell_type": "code",
   "execution_count": 28,
   "id": "27512ffb",
   "metadata": {},
   "outputs": [],
   "source": [
    "t=tuple([42])"
   ]
  },
  {
   "cell_type": "code",
   "execution_count": 29,
   "id": "b1315c05",
   "metadata": {},
   "outputs": [
    {
     "data": {
      "text/plain": [
       "(42,)"
      ]
     },
     "execution_count": 29,
     "metadata": {},
     "output_type": "execute_result"
    }
   ],
   "source": [
    "t"
   ]
  },
  {
   "cell_type": "code",
   "execution_count": 32,
   "id": "e25e2f45",
   "metadata": {},
   "outputs": [],
   "source": [
    "t=(42,)"
   ]
  },
  {
   "cell_type": "code",
   "execution_count": 33,
   "id": "2863c0dd",
   "metadata": {},
   "outputs": [
    {
     "data": {
      "text/plain": [
       "(42,)"
      ]
     },
     "execution_count": 33,
     "metadata": {},
     "output_type": "execute_result"
    }
   ],
   "source": [
    "t"
   ]
  },
  {
   "cell_type": "code",
   "execution_count": 34,
   "id": "3d854482",
   "metadata": {},
   "outputs": [],
   "source": [
    "t=(42)"
   ]
  },
  {
   "cell_type": "code",
   "execution_count": 35,
   "id": "754ab3fe",
   "metadata": {},
   "outputs": [
    {
     "data": {
      "text/plain": [
       "42"
      ]
     },
     "execution_count": 35,
     "metadata": {},
     "output_type": "execute_result"
    }
   ],
   "source": [
    "t"
   ]
  },
  {
   "cell_type": "code",
   "execution_count": 41,
   "id": "84cca3a4",
   "metadata": {},
   "outputs": [],
   "source": [
    "# l=[1,2,3,4]\n",
    "# t=tuple(l)"
   ]
  },
  {
   "cell_type": "code",
   "execution_count": 42,
   "id": "8671a21d",
   "metadata": {},
   "outputs": [],
   "source": [
    "l=[1,2,3,4]"
   ]
  },
  {
   "cell_type": "code",
   "execution_count": 43,
   "id": "86d71917",
   "metadata": {},
   "outputs": [],
   "source": [
    "t=tuple(l)"
   ]
  },
  {
   "cell_type": "code",
   "execution_count": 44,
   "id": "849beffb",
   "metadata": {},
   "outputs": [
    {
     "data": {
      "text/plain": [
       "(1, 2, 3, 4)"
      ]
     },
     "execution_count": 44,
     "metadata": {},
     "output_type": "execute_result"
    }
   ],
   "source": [
    "t"
   ]
  },
  {
   "cell_type": "code",
   "execution_count": 45,
   "id": "d79bdf00",
   "metadata": {},
   "outputs": [
    {
     "data": {
      "text/plain": [
       "[1, 2, 3, 4]"
      ]
     },
     "execution_count": 45,
     "metadata": {},
     "output_type": "execute_result"
    }
   ],
   "source": [
    "list(t)"
   ]
  },
  {
   "cell_type": "code",
   "execution_count": null,
   "id": "8fe01d74",
   "metadata": {},
   "outputs": [],
   "source": []
  }
 ],
 "metadata": {
  "kernelspec": {
   "display_name": "Python 3",
   "language": "python",
   "name": "python3"
  },
  "language_info": {
   "codemirror_mode": {
    "name": "ipython",
    "version": 3
   },
   "file_extension": ".py",
   "mimetype": "text/x-python",
   "name": "python",
   "nbconvert_exporter": "python",
   "pygments_lexer": "ipython3",
   "version": "3.8.8"
  }
 },
 "nbformat": 4,
 "nbformat_minor": 5
}

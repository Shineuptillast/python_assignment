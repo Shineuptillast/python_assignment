{
 "cells": [
  {
   "cell_type": "code",
   "execution_count": 1,
   "id": "b561b558",
   "metadata": {},
   "outputs": [],
   "source": [
    "# Question 1 What are the two types of boolean data type?\n",
    "\n",
    "#  There are two type of value that a boolean varibale can hold its True and False"
   ]
  },
  {
   "cell_type": "code",
   "execution_count": 3,
   "id": "a9df61d3",
   "metadata": {},
   "outputs": [],
   "source": [
    "# Question 2 what are the three types of boolean operators?\n",
    "\n",
    "#            The three logical operators are and, or and not. These operators always result in either true or false depending \n",
    "#            upon the statements.  \n",
    "\n",
    "#            And gives True when both the statements around and are true\n",
    "#            Or gives True when either one of them is True\n",
    "#            not negates the result "
   ]
  },
  {
   "cell_type": "code",
   "execution_count": 4,
   "id": "1ac4c0b9",
   "metadata": {},
   "outputs": [
    {
     "data": {
      "text/plain": [
       "'\\nAnd Truth Table \\n\\nX | Y | X and Y\\n0   0     0\\n0   1     0\\n1   0     0\\n1   1     1\\n\\n\\n\\nOr Truth Table\\nX | Y | X or Y\\n0   0     0\\n0   1     1\\n1   0     1\\n1   1     1\\n\\nnot truth table\\nX | not X\\n1   0\\n0   1     \\n\\n\\n\\n\\n\\n\\n\\n'"
      ]
     },
     "execution_count": 4,
     "metadata": {},
     "output_type": "execute_result"
    }
   ],
   "source": [
    "# Question 3  Boolean Truth Tables\n",
    "\"\"\"\n",
    "And Truth Table \n",
    "\n",
    "X | Y | X and Y\n",
    "0   0     0\n",
    "0   1     0\n",
    "1   0     0\n",
    "1   1     1\n",
    "\n",
    "\n",
    "\n",
    "Or Truth Table\n",
    "X | Y | X or Y\n",
    "0   0     0\n",
    "0   1     1\n",
    "1   0     1\n",
    "1   1     1\n",
    "\n",
    "not truth table\n",
    "X | not X\n",
    "1   0\n",
    "0   1     \n",
    "\n",
    "\n",
    "\n",
    "\n",
    "\n",
    "\n",
    "\n",
    "\"\"\"\n",
    "\n",
    "\n",
    "\n"
   ]
  },
  {
   "cell_type": "code",
   "execution_count": 5,
   "id": "0ee62726",
   "metadata": {},
   "outputs": [],
   "source": [
    "# (5>4) and (3==5)\n",
    "# False\n"
   ]
  },
  {
   "cell_type": "code",
   "execution_count": 6,
   "id": "c38127ca",
   "metadata": {},
   "outputs": [],
   "source": [
    "# not(5>4)\n",
    "# False"
   ]
  },
  {
   "cell_type": "code",
   "execution_count": 7,
   "id": "541dad58",
   "metadata": {},
   "outputs": [],
   "source": [
    "# (5>4) or (3==5)\n",
    "# True"
   ]
  },
  {
   "cell_type": "code",
   "execution_count": 8,
   "id": "423a9f73",
   "metadata": {},
   "outputs": [],
   "source": [
    "# not(5>4) or (3==5)\n",
    "# False"
   ]
  },
  {
   "cell_type": "code",
   "execution_count": 9,
   "id": "1ca6295f",
   "metadata": {},
   "outputs": [],
   "source": [
    "# SIx Comparison operators\n",
    "\n",
    "\n",
    "#   < , > , == , !=, >= , <= \n",
    "\n"
   ]
  },
  {
   "cell_type": "code",
   "execution_count": 10,
   "id": "0812392f",
   "metadata": {},
   "outputs": [],
   "source": [
    "# equal to == and assignment ="
   ]
  },
  {
   "cell_type": "code",
   "execution_count": 12,
   "id": "fad780ad",
   "metadata": {},
   "outputs": [
    {
     "name": "stdout",
     "output_type": "stream",
     "text": [
      "Enter a number-->4\n",
      "Greetings\n"
     ]
    }
   ],
   "source": [
    "spam = int(input(\"Enter a number-->\"))\n",
    "\n",
    "if spam==1:\n",
    "    print(\"Hello\")\n",
    "elif spam==2:\n",
    "    print(\"Howdy\")\n",
    "else:\n",
    "    print(\"Greetings\")"
   ]
  },
  {
   "cell_type": "code",
   "execution_count": 13,
   "id": "75e8a961",
   "metadata": {},
   "outputs": [],
   "source": [
    "# Ctrl + C to stop an indefinite loop"
   ]
  },
  {
   "cell_type": "code",
   "execution_count": 15,
   "id": "afb7e879",
   "metadata": {},
   "outputs": [],
   "source": [
    "# break and continue\n",
    "\n",
    "# break-- as soon as python interpreter comes across break statement it comes out of the loop and execute the statement just\n",
    "# right after loop\n",
    "\n",
    "# Continue--> as soon as python interpreter comes across continue statement it jumps of the cursor to the next iteration \n",
    "# leaving all the execution left of that iteration"
   ]
  },
  {
   "cell_type": "code",
   "execution_count": 23,
   "id": "bdf93e38",
   "metadata": {},
   "outputs": [],
   "source": [
    "# range(10), range(0,10) , range(0,10,1) are all the same statements inside of the for loop "
   ]
  },
  {
   "cell_type": "code",
   "execution_count": 26,
   "id": "3a470327",
   "metadata": {},
   "outputs": [],
   "source": [
    "# for i in range(10):\n",
    "#     print(i) \n",
    "\n",
    "\n",
    "# i = 10\n",
    "# p=\n",
    "# while p<10:\n",
    "#   print(p)\n",
    "#   p+=1"
   ]
  },
  {
   "cell_type": "code",
   "execution_count": null,
   "id": "1170ccea",
   "metadata": {},
   "outputs": [],
   "source": [
    "# import spam\n",
    "# spam.bacon()"
   ]
  },
  {
   "cell_type": "code",
   "execution_count": null,
   "id": "260afcaa",
   "metadata": {},
   "outputs": [],
   "source": []
  }
 ],
 "metadata": {
  "kernelspec": {
   "display_name": "Python 3",
   "language": "python",
   "name": "python3"
  },
  "language_info": {
   "codemirror_mode": {
    "name": "ipython",
    "version": 3
   },
   "file_extension": ".py",
   "mimetype": "text/x-python",
   "name": "python",
   "nbconvert_exporter": "python",
   "pygments_lexer": "ipython3",
   "version": "3.8.8"
  }
 },
 "nbformat": 4,
 "nbformat_minor": 5
}
